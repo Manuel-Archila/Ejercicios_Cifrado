{
 "cells": [
  {
   "cell_type": "markdown",
   "metadata": {},
   "source": [
    "# Ejercicios"
   ]
  },
  {
   "cell_type": "markdown",
   "metadata": {},
   "source": [
    "## Ejercicio Hash"
   ]
  },
  {
   "cell_type": "markdown",
   "metadata": {},
   "source": [
    "1. Los estudiantes investigarán sobre las funciones hash y su aplicación en la verificación de integridad de archivos. Deberán comprender cómo funcionan las funciones hash, por qué son útiles para verificar la integridad de los datos y qué algoritmos hash son comúnmente utilizados."
   ]
  },
  {
   "cell_type": "markdown",
   "metadata": {},
   "source": [
    "- Escogi la libreria de hashlib porque es una de las mas utilizadas en python. La manera de implementar el algoritmo de sha256 es muy sencilla, solo se necesita importar la libreria y llamar a la funcion sha256() con la data que se quiere cifrar."
   ]
  },
  {
   "cell_type": "code",
   "execution_count": 11,
   "metadata": {},
   "outputs": [],
   "source": [
    "import hashlib"
   ]
  },
  {
   "cell_type": "markdown",
   "metadata": {},
   "source": [
    "2. Hacer un análisis comparativo de una función HASH MD5 Y SHA-256"
   ]
  },
  {
   "cell_type": "markdown",
   "metadata": {},
   "source": [
    "- MD5 (Message Digest Algorithm 5): Fue diseñado por Ronald Rivest en 1991 y produce un hash de 128 bits. Es rápido pero tiene vulnerabilidades significativas que lo hacen inseguro para usos criptográficos actuales.\n",
    "\n",
    "- SHA-256 (Secure Hash Algorithm 256 bit): Parte de la familia de algoritmos SHA-2, desarrollada por la NSA de Estados Unidos, SHA-256 genera un hash de 256 bits y es considerablemente más seguro que MD5. Es más lento en comparación con MD5 debido a su mayor longitud y complejidad."
   ]
  },
  {
   "cell_type": "markdown",
   "metadata": {},
   "source": [
    "3. Mostrar la diferencia en tiempo de HASH en MD5 vs SHA-256"
   ]
  },
  {
   "cell_type": "code",
   "execution_count": 12,
   "metadata": {},
   "outputs": [
    {
     "name": "stdout",
     "output_type": "stream",
     "text": [
      "Time to hash the document: 0.0003863000001729233 seconds\n",
      "29f68526129c28be4a3b01d5a4ff5e5e92ff5a05b697f736fa08101e7cdcd1ad\n",
      "Time to hash the document: 0.00013529999978345586 seconds\n",
      "4e48131972b38d363750daa15e57660e\n"
     ]
    }
   ],
   "source": [
    "import hashlib\n",
    "from time import perf_counter\n",
    "\n",
    "# Function that takes a document path and returns a hash of the document\n",
    "def hash_document(document_path):\n",
    "    with open(document_path, 'rb') as document:\n",
    "        document_content = document.read()\n",
    "        return hashlib.sha256(document_content).hexdigest()\n",
    "\n",
    "def md5_hash_document(document_path):\n",
    "    with open(document_path, 'rb') as document:\n",
    "        document_content = document.read()\n",
    "        return hashlib.md5(document_content).hexdigest()\n",
    "\n",
    "\n",
    "initial_time = perf_counter()\n",
    "calculated_hash_256 = hash_document('documento.txt')\n",
    "final_time = perf_counter() - initial_time\n",
    "\n",
    "print(f\"Time to hash the document: {final_time} seconds\")\n",
    "\n",
    "print(calculated_hash_256)\n",
    "initial_time = perf_counter()\n",
    "calculated_hash_md5 = md5_hash_document('documento.txt')\n",
    "final_time = perf_counter() - initial_time\n",
    "print(f\"Time to hash the document: {final_time} seconds\")\n",
    "print(calculated_hash_md5)\n"
   ]
  },
  {
   "cell_type": "markdown",
   "metadata": {},
   "source": [
    "Despues de realiar la prueba de tiempo de ejecucion de ambos algoritmos, se puede observar que el algoritmo sha256 es mas rapido que el algoritmo md5."
   ]
  },
  {
   "cell_type": "markdown",
   "metadata": {},
   "source": [
    "4. Investigar la vulnerabilidad de MD5 y como romperlo"
   ]
  },
  {
   "cell_type": "markdown",
   "metadata": {},
   "source": [
    "MD5 ha sido comprometido de varias maneras:\n",
    "\n",
    "Colisiones: Se ha demostrado que es relativamente fácil generar dos entradas distintas que producen el mismo hash MD5. Esto permite que un atacante pueda falsificar un documento o un archivo.\n",
    "\n",
    "Ataques de velocidad: Con suficiente poder computacional, se puede encontrar el mensaje original que corresponde a un hash MD5 específico, o crear un hash que coincida con un archivo existente.\n",
    "\n",
    "MD5 es inseguro y no se recomienda para seguridad criptográfica. Se han desarrollado herramientas y técnicas para explotar estas vulnerabilidades, como el uso de tablas de arcoíris o fuerza bruta para revertir los hashes MD5.\n",
    "\n"
   ]
  },
  {
   "cell_type": "code",
   "execution_count": 13,
   "metadata": {},
   "outputs": [
    {
     "name": "stdout",
     "output_type": "stream",
     "text": [
      "The document is valid\n",
      "The document is not valid\n",
      "The document is not valid\n"
     ]
    }
   ],
   "source": [
    "hash_doc1 = hash_document('documento_1.txt')\n",
    "hash_doc2 = hash_document('documento_2.txt')\n",
    "hashes = [\"29f68526129c28be4a3b01d5a4ff5e5e92ff5a05b697f736fa08101e7cdcd1ad\", hash_doc1, hash_doc2]\n",
    "\n",
    "for actual_hash in hashes:\n",
    "    if calculated_hash_256 == actual_hash:\n",
    "        print(\"The document is valid\")\n",
    "    else:\n",
    "        print(\"The document is not valid\")"
   ]
  },
  {
   "cell_type": "markdown",
   "metadata": {},
   "source": [
    "El documento_1 es un archivo que no contiene texto que el documento original si esta presente, por lo cual cambia el hash\n",
    "\n",
    "El documento_2 es un archivo que contiene el mismo texto que el documento original, pero hay una palabra que cambia al no tener tilde. Cambiando el hash por completo."
   ]
  }
 ],
 "metadata": {
  "kernelspec": {
   "display_name": "Python 3",
   "language": "python",
   "name": "python3"
  },
  "language_info": {
   "codemirror_mode": {
    "name": "ipython",
    "version": 3
   },
   "file_extension": ".py",
   "mimetype": "text/x-python",
   "name": "python",
   "nbconvert_exporter": "python",
   "pygments_lexer": "ipython3",
   "version": "3.11.8"
  }
 },
 "nbformat": 4,
 "nbformat_minor": 2
}
